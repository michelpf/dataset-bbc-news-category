{
 "cells": [
  {
   "cell_type": "markdown",
   "metadata": {},
   "source": [
    "# Preparação de dados para teste com AWS Comprehend\n",
    "\n",
    "Para adaptar os dados no formato que o serviço utiliza, precisamos consolidar os dados de arquivos individuais em um único arquivo CSV."
   ]
  },
  {
   "cell_type": "code",
   "execution_count": 1,
   "metadata": {},
   "outputs": [],
   "source": [
    "import os\n",
    "import pandas as pd"
   ]
  },
  {
   "cell_type": "code",
   "execution_count": 2,
   "metadata": {},
   "outputs": [],
   "source": [
    "df = pd.DataFrame()\n",
    "mapping = {}\n",
    "source_path = \"bbc/\""
   ]
  },
  {
   "cell_type": "code",
   "execution_count": 3,
   "metadata": {},
   "outputs": [
    {
     "data": {
      "text/plain": [
       "['business', 'entertainment', 'politics', 'sport', 'tech']"
      ]
     },
     "execution_count": 3,
     "metadata": {},
     "output_type": "execute_result"
    }
   ],
   "source": [
    "sorted(os.listdir(source_path))"
   ]
  },
  {
   "cell_type": "code",
   "execution_count": 4,
   "metadata": {},
   "outputs": [],
   "source": [
    "for i in sorted(os.listdir(source_path)):\n",
    "    if os.path.isdir(source_path + i):\n",
    "        mapping[i] = sorted(os.listdir(source_path+i))[300:320]"
   ]
  },
  {
   "cell_type": "code",
   "execution_count": 5,
   "metadata": {},
   "outputs": [
    {
     "data": {
      "text/plain": [
       "dict_keys(['business', 'entertainment', 'politics', 'sport', 'tech'])"
      ]
     },
     "execution_count": 5,
     "metadata": {},
     "output_type": "execute_result"
    }
   ],
   "source": [
    "mapping.keys()"
   ]
  },
  {
   "cell_type": "code",
   "execution_count": 6,
   "metadata": {},
   "outputs": [],
   "source": [
    "category = []\n",
    "data = []\n",
    "\n",
    "for i, j in mapping.items():\n",
    "    for k in j:\n",
    "        category.append(i)\n",
    "        data.append(open(source_path+i+\"/\"+k, encoding=\"cp1252\").read().replace(\"\\n\", \"\"))"
   ]
  },
  {
   "cell_type": "code",
   "execution_count": 7,
   "metadata": {},
   "outputs": [
    {
     "data": {
      "text/plain": [
       "['Libya takes $1bn in unfrozen fundsLibya has withdrawn $1bn in assets from the US, assets which had previously been frozen for almost 20 years, the Libyan central bank has said.The move came after the US lifted a trade ban to reward Tripoli for giving up weapons of mass destruction and vowing to compensate Lockerbie victims. The original size of Libya\\'s funds was $400m, the central bank told Reuters. However, the withdrawal did not mean that Libya had cut its ties with the US, he added.\"We are in the process of opening accounts in banks in the United States,\" the central bank\\'s vice president Farhat Omar Ben Gadaravice said. The previously frozen assets had been invested in various countries and are believed to have included equity holdings in banks. The US ban on trade and economic activity with Tripoli - imposed by then president Ronald Regan in 1986 after a series of what the US deemed terrorist acts, including the 1988 Lockerbie air crash - was suspended in April. Bankers from the two country\\'s had been working on how to unfreeze Libya\\'s assets.',\n",
       " 'Cactus diet deal for PhytopharmA slimming aid made from a southern African cactus is set to be developed by UK firm Phytopharm and Unilever.Anglo-Dutch food giant Unilever will help the pharmaceutical firm develop the snacks containing Hoodia extract. Phytopharm shares jumped 10.7% on the news, with analysts saying sales of $600m (Â£309m) a year were possible. The plant, licensed to Phytopharm in 1997, has been used for thousands of years by the Sans bushmen of the Kalahari desert to stave off hunger. Studies have reportedly shown the plant curbs appetite instead of reducing calorific intake like many existing products.Phytopharm will receive an initial fee of Â£6.5m from Unilever - out of a potential total of Â£21m - as well as future royalties on product sales. Under the deal, production of the Hoodia cactus at Phytopharm\\'s nursery in South Africa will also rise from eight million plants to potentially hundreds of millions, said Phytopharm chief executive Richard Dixey. The firm had initially hoped to market a slimming drug from Hoodia with Pfizer. But the research collaboration came to an end in 2003. Analysts said Unilever could launch the new products in 2007. \"This deal goes a long way to restoring the market faith in Phytopharm\\'s pipeline after the Pfizer exit,\" said analyst Erling Refsum at Nomura.',\n",
       " 'Brazil plays down Varig rescueThe Brazilian government has played down claims that it could step in to save the country\\'s biggest airline.Brazil\\'s airport authority chief Carlos Wilson had claimed the government was on the brink of stepping in to save Varig, Brazil\\'s flagship airline. However, the country\\'s vice president Jose Alencar has said the government still is looking for a solution. Varig is struggling under a huge debt burden of an estimated debt of 6.5 billion reais ($2.3bn or Â£1.2bn). Asked whether a rescue was on the cards following a meeting of the country\\'s Congress to discuss the airline\\'s crisis, Mr Alencar replied: \"No, I don\\'t think so. We will see.\"Earlier, Mr Wilson had said that president Luiz Inacio Lula da Silva has decided to step in and a decree of some kind of intervention could be signed this week. \"In practice, it will be an intervention, although this is not the technical name used\", he said. An intervention means that the government would take administrative control of the company and its finances. For that to happen Varig\\'s main shareholder, the non-profit Ruben Berta Foundation which represents the airline\\'s employees, would have to be removed, Mr Wilson said. However, no jobs would be lost and the airline would keep on flying, he added. Varig, which operates in 18 countries apart from Brazil, has been driven to the brink of collapse because of the country\\'s economic downturn.The depreciation of Brazil\\'s currency has had a direct impact on the airline\\'s dollar debt as well as some of its costs. Business has improved recently with demand for air travel increasing and a recovery in the Brazilian economy. The airline could also win a sizeable windfall from a compensation claim against the government. On Tuesday the courts awarded Varig 2bn reais ($725m), after ruling in favour of its compensation claim against the government for freezing tariffs from 1985 to 1992. But the government can appeal the decision.',\n",
       " 'Bombardier chief to leave companyShares in train and plane-making giant Bombardier have fallen to a 10-year low following the departure of its chief executive and two members of the board.Paul Tellier, who was also Bombardier\\'s president, left the company amid an ongoing restructuring. Laurent Beaudoin, part of the family that controls the Montreal-based firm, will take on the role of CEO under a newly created management structure. Analysts said the resignations seem to have stemmed from a boardroom dispute. Under Mr Tellier\\'s tenure at the company, which began in January 2003, plans to cut the worldwide workforce of 75,000 by almost a third by 2006 were announced. The firm\\'s snowmobile division and defence services unit were also sold and Bombardier started the development of a new aircraft seating 110 to 135 passengers.Mr Tellier had indicated he wanted to stay at the world\\'s top train maker and third largest manufacturer of civil aircraft until the restructuring was complete. But Bombardier has been faced with a declining share price and profits. Earlier this month the firm said it earned $10m (Â£19.2m) in the third quarter, down from a profit of $133m a year ago. \"I understand the board\\'s concern that I would not be there for the long-term and the need to develop and execute strategies, and the need to reshape the management structure at this time,\" Mr Tellier said in a statement on Monday. Bombardier said restructuring plans drawn up by Mr Tellier\\'s would continue to be implemented. Shares in Bombardier lost 65 Canadian cents or 25% on the news to 1.90 Canadian dollars before rallying to 2.20 Canadian dollars.',\n",
       " \"Brazil approves bankruptcy reformA major reform of Brazil's bankruptcy laws has been approved by the country's Congress, in a move which it is hoped will cut the cost of borrowing.The bill, proposed in 1993, has finally been approved by the leadership of President Luiz Inacio Lula da Silva. The old law, dating from 1945, gave priority first to workers, second to tax revenue and finally to creditors. The new legislation changes this, giving priority to creditors and limiting payments to workers. The new regulations will limit payments to workers to 150 times the minimum monthly salary, which is currently $94. The law also makes it more difficult for a company to declare bankruptcy. However, when a firm is declared bankrupt it will gain protection from creditors for 180 days while a recovery plan is worked out.The proposals were opposed in the past by leftist parties, including Mr Lula's Worker Party. They considered that they undermined workers' rights. But President Lula became a defender of the reforms, arguing that the country's bank lending margins were among the highest in the world and were damaging the economy. According to Andreas Adriano of Latin Trade Magazine, the new bankruptcy law will help in reducing the spread - difference between the interest rates of the banks and federal bonds. Nevertheless, Mr Adriano said to reduce the basic interest rate the Central Bank needs to change its policy, focusing not only on inflation but also on economic growth.\"]"
      ]
     },
     "execution_count": 7,
     "metadata": {},
     "output_type": "execute_result"
    }
   ],
   "source": [
    "data[:5]"
   ]
  },
  {
   "cell_type": "code",
   "execution_count": 8,
   "metadata": {},
   "outputs": [],
   "source": [
    "df[\"category\"] = category\n",
    "df[\"document\"] = data"
   ]
  },
  {
   "cell_type": "code",
   "execution_count": 9,
   "metadata": {},
   "outputs": [
    {
     "data": {
      "text/html": [
       "<div>\n",
       "<style scoped>\n",
       "    .dataframe tbody tr th:only-of-type {\n",
       "        vertical-align: middle;\n",
       "    }\n",
       "\n",
       "    .dataframe tbody tr th {\n",
       "        vertical-align: top;\n",
       "    }\n",
       "\n",
       "    .dataframe thead th {\n",
       "        text-align: right;\n",
       "    }\n",
       "</style>\n",
       "<table border=\"1\" class=\"dataframe\">\n",
       "  <thead>\n",
       "    <tr style=\"text-align: right;\">\n",
       "      <th></th>\n",
       "      <th>category</th>\n",
       "      <th>document</th>\n",
       "    </tr>\n",
       "  </thead>\n",
       "  <tbody>\n",
       "    <tr>\n",
       "      <th>0</th>\n",
       "      <td>business</td>\n",
       "      <td>Libya takes $1bn in unfrozen fundsLibya has wi...</td>\n",
       "    </tr>\n",
       "    <tr>\n",
       "      <th>1</th>\n",
       "      <td>business</td>\n",
       "      <td>Cactus diet deal for PhytopharmA slimming aid ...</td>\n",
       "    </tr>\n",
       "    <tr>\n",
       "      <th>2</th>\n",
       "      <td>business</td>\n",
       "      <td>Brazil plays down Varig rescueThe Brazilian go...</td>\n",
       "    </tr>\n",
       "    <tr>\n",
       "      <th>3</th>\n",
       "      <td>business</td>\n",
       "      <td>Bombardier chief to leave companyShares in tra...</td>\n",
       "    </tr>\n",
       "    <tr>\n",
       "      <th>4</th>\n",
       "      <td>business</td>\n",
       "      <td>Brazil approves bankruptcy reformA major refor...</td>\n",
       "    </tr>\n",
       "  </tbody>\n",
       "</table>\n",
       "</div>"
      ],
      "text/plain": [
       "   category                                           document\n",
       "0  business  Libya takes $1bn in unfrozen fundsLibya has wi...\n",
       "1  business  Cactus diet deal for PhytopharmA slimming aid ...\n",
       "2  business  Brazil plays down Varig rescueThe Brazilian go...\n",
       "3  business  Bombardier chief to leave companyShares in tra...\n",
       "4  business  Brazil approves bankruptcy reformA major refor..."
      ]
     },
     "execution_count": 9,
     "metadata": {},
     "output_type": "execute_result"
    }
   ],
   "source": [
    "df.head()"
   ]
  },
  {
   "cell_type": "code",
   "execution_count": 10,
   "metadata": {},
   "outputs": [],
   "source": [
    "df = df.sample(frac=1).reset_index(drop=True)"
   ]
  },
  {
   "cell_type": "code",
   "execution_count": 11,
   "metadata": {},
   "outputs": [],
   "source": [
    "df.to_csv(\"bbc_news_category_test.csv\", index=False, header=False)"
   ]
  },
  {
   "cell_type": "code",
   "execution_count": null,
   "metadata": {},
   "outputs": [],
   "source": []
  }
 ],
 "metadata": {
  "kernelspec": {
   "display_name": "Python 3",
   "language": "python",
   "name": "python3"
  },
  "language_info": {
   "codemirror_mode": {
    "name": "ipython",
    "version": 3
   },
   "file_extension": ".py",
   "mimetype": "text/x-python",
   "name": "python",
   "nbconvert_exporter": "python",
   "pygments_lexer": "ipython3",
   "version": "3.10.9"
  },
  "orig_nbformat": 4
 },
 "nbformat": 4,
 "nbformat_minor": 2
}
